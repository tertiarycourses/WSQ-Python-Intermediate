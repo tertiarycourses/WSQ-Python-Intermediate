{
  "nbformat": 4,
  "nbformat_minor": 0,
  "metadata": {
    "colab": {
      "name": "sample_codes_python_intermeidate_wsq_course.ipynb",
      "provenance": [],
      "collapsed_sections": []
    },
    "kernelspec": {
      "name": "python3",
      "display_name": "Python 3"
    },
    "accelerator": "GPU"
  },
  "cells": [
    {
      "cell_type": "markdown",
      "metadata": {
        "id": "BFtOba3twrZP",
        "colab_type": "text"
      },
      "source": [
        "# Topic 1 Comprehension & Generators"
      ]
    },
    {
      "cell_type": "markdown",
      "metadata": {
        "id": "V9dHCT0Eq23V",
        "colab_type": "text"
      },
      "source": [
        "## List Comprehension"
      ]
    },
    {
      "cell_type": "code",
      "metadata": {
        "id": "DMW2qweIgs6-",
        "colab_type": "code",
        "colab": {}
      },
      "source": [
        "# Create a list in usual Python way\n",
        "c = []\n",
        "for i in range(11): \n",
        "\tc.append(i*i)\n",
        "print(c)"
      ],
      "execution_count": 0,
      "outputs": []
    },
    {
      "cell_type": "code",
      "metadata": {
        "id": "r_hbSI9shLLa",
        "colab_type": "code",
        "colab": {}
      },
      "source": [
        "# List Comprehension\n",
        "[i*i for i in range(1,11)]"
      ],
      "execution_count": 0,
      "outputs": []
    },
    {
      "cell_type": "code",
      "metadata": {
        "id": "5cndEB56hUgm",
        "colab_type": "code",
        "colab": {}
      },
      "source": [
        "# Create a list in usual Python way\n",
        "c = []\n",
        "for i in range(11): \n",
        "\tif i%2 == 0: continue\n",
        "\tc.append(i*i)\n",
        "print(c)"
      ],
      "execution_count": 0,
      "outputs": []
    },
    {
      "cell_type": "code",
      "metadata": {
        "id": "mAATsNpxhik_",
        "colab_type": "code",
        "colab": {}
      },
      "source": [
        "# With if clause\n",
        "\n",
        "[i*i for i in range(1,11) if i%2 != 0]"
      ],
      "execution_count": 0,
      "outputs": []
    },
    {
      "cell_type": "code",
      "metadata": {
        "id": "9PwHngtfzHlh",
        "colab_type": "code",
        "colab": {}
      },
      "source": [
        "# Double Loop\n",
        "\n",
        "[i*j for i in range(1,3) for j in range(1,5)]"
      ],
      "execution_count": 0,
      "outputs": []
    },
    {
      "cell_type": "markdown",
      "metadata": {
        "id": "s0h4SHSDrH44",
        "colab_type": "text"
      },
      "source": [
        "## Set Comprehension"
      ]
    },
    {
      "cell_type": "code",
      "metadata": {
        "id": "qtsPSkuz2ntY",
        "colab_type": "code",
        "colab": {}
      },
      "source": [
        "set([i*i for i in range(11)])"
      ],
      "execution_count": 0,
      "outputs": []
    },
    {
      "cell_type": "code",
      "metadata": {
        "id": "e0rTU3LThezy",
        "colab_type": "code",
        "colab": {}
      },
      "source": [
        "{i*i for i in range(11)}"
      ],
      "execution_count": 0,
      "outputs": []
    },
    {
      "cell_type": "markdown",
      "metadata": {
        "id": "2hiAEY7N27bf",
        "colab_type": "text"
      },
      "source": [
        "## Dict Comprehension"
      ]
    },
    {
      "cell_type": "code",
      "metadata": {
        "id": "bDNwbP7H3BKJ",
        "colab_type": "code",
        "colab": {}
      },
      "source": [
        "{i:i*i for i in range(111)}"
      ],
      "execution_count": 0,
      "outputs": []
    },
    {
      "cell_type": "code",
      "metadata": {
        "id": "JaghWPGXOWDn",
        "colab_type": "code",
        "colab": {}
      },
      "source": [
        "name = ['Ally','Belinda','Steve']\n",
        "height = [160,158,170]\n",
        "\n",
        "{name:height for name,height in zip(name,height)}"
      ],
      "execution_count": 0,
      "outputs": []
    },
    {
      "cell_type": "markdown",
      "metadata": {
        "id": "XmLgN9mL3ZcF",
        "colab_type": "text"
      },
      "source": [
        "## Generator Expression"
      ]
    },
    {
      "cell_type": "code",
      "metadata": {
        "id": "r0FUHkcG3Vct",
        "colab_type": "code",
        "colab": {}
      },
      "source": [
        "# Problem of List - Inefficient memory storage\n",
        "# [i*i for i in range(100000)]\n",
        "\n",
        "sum([i**2 for i in range(20)])\n"
      ],
      "execution_count": 0,
      "outputs": []
    },
    {
      "cell_type": "markdown",
      "metadata": {
        "id": "JE9xjuZiCMt1",
        "colab_type": "text"
      },
      "source": [
        "## Next"
      ]
    },
    {
      "cell_type": "code",
      "metadata": {
        "id": "njjgH2_VGnQk",
        "colab_type": "code",
        "colab": {}
      },
      "source": [
        "a = (n*n for n in range(10))\n",
        "\n",
        "print(next(a))\n",
        "print(next(a))\n",
        "print(next(a))\n",
        "print(next(a))\n"
      ],
      "execution_count": 0,
      "outputs": []
    },
    {
      "cell_type": "markdown",
      "metadata": {
        "id": "3tjiBvtUMI_v",
        "colab_type": "text"
      },
      "source": [
        "## Generator Function"
      ]
    },
    {
      "cell_type": "code",
      "metadata": {
        "id": "XouleDEjMUJ6",
        "colab_type": "code",
        "colab": {}
      },
      "source": [
        "# Normal way to write function\n",
        "def square(n):\n",
        "\ta = []\n",
        "\tfor i in range(n):\n",
        "\t\ta.append(i*i)\n",
        "\treturn a\n",
        "\n",
        "square(10)"
      ],
      "execution_count": 0,
      "outputs": []
    },
    {
      "cell_type": "code",
      "metadata": {
        "id": "aLOByl6mMXPb",
        "colab_type": "code",
        "colab": {}
      },
      "source": [
        "# Using Generator function\n",
        "def square(n):\n",
        "\tfor i in range(n):\n",
        "\t\tyield i*i\n",
        "\n",
        "square(10)"
      ],
      "execution_count": 0,
      "outputs": []
    },
    {
      "cell_type": "code",
      "metadata": {
        "id": "OA5mev42M2Kd",
        "colab_type": "code",
        "colab": {}
      },
      "source": [
        "for i in square(10):\n",
        "    print(i)"
      ],
      "execution_count": 0,
      "outputs": []
    },
    {
      "cell_type": "markdown",
      "metadata": {
        "id": "OEmvlnboxSSW",
        "colab_type": "text"
      },
      "source": [
        "# Topic 2 File and Directory Handling"
      ]
    },
    {
      "cell_type": "markdown",
      "metadata": {
        "id": "Ksi-Rnlt-IVL",
        "colab_type": "text"
      },
      "source": [
        "## OS Module"
      ]
    },
    {
      "cell_type": "code",
      "metadata": {
        "id": "T0GJJDsz7wP9",
        "colab_type": "code",
        "colab": {}
      },
      "source": [
        "import os \n",
        "os.getcwd()"
      ],
      "execution_count": 0,
      "outputs": []
    },
    {
      "cell_type": "code",
      "metadata": {
        "id": "UEGJqIuF2Mty",
        "colab_type": "code",
        "colab": {}
      },
      "source": [
        "from google.colab import drive\n",
        "drive.mount('/content/drive')"
      ],
      "execution_count": 0,
      "outputs": []
    },
    {
      "cell_type": "code",
      "metadata": {
        "id": "9z7ZJqBi2Bha",
        "colab_type": "code",
        "colab": {}
      },
      "source": [
        "path = '/content/drive/My Drive'\n",
        "os.chdir(path)\n",
        "os.getcwd()"
      ],
      "execution_count": 0,
      "outputs": []
    },
    {
      "cell_type": "code",
      "metadata": {
        "id": "X-HPV_6I4ZcB",
        "colab_type": "code",
        "colab": {}
      },
      "source": [
        "path = '/content/drive/My Drive/test'\n",
        "os.mkdir(path)    "
      ],
      "execution_count": 0,
      "outputs": []
    },
    {
      "cell_type": "code",
      "metadata": {
        "id": "SWOxF6t_22da",
        "colab_type": "code",
        "colab": {}
      },
      "source": [
        "with open('/content/drive/My Drive/test/foo.txt', 'w') as f:\n",
        "  f.write('Hello Google Drive!')\n",
        "!cat '/content/drive/My Drive/test/foo.txt'"
      ],
      "execution_count": 0,
      "outputs": []
    },
    {
      "cell_type": "code",
      "metadata": {
        "id": "FHF2duWtGLAn",
        "colab_type": "code",
        "colab": {}
      },
      "source": [
        "path = '/content/drive/My Drive/test'\n",
        "os.listdir(path)"
      ],
      "execution_count": 0,
      "outputs": []
    },
    {
      "cell_type": "code",
      "metadata": {
        "id": "LXG51PBQGed-",
        "colab_type": "code",
        "colab": {}
      },
      "source": [
        "len(os.listdir(path))"
      ],
      "execution_count": 0,
      "outputs": []
    },
    {
      "cell_type": "code",
      "metadata": {
        "id": "VYHvQCl-IqXX",
        "colab_type": "code",
        "colab": {}
      },
      "source": [
        "os.remove('/content/drive/My Drive/test/foo.txt')"
      ],
      "execution_count": 0,
      "outputs": []
    },
    {
      "cell_type": "code",
      "metadata": {
        "id": "K_xikGs3GnIg",
        "colab_type": "code",
        "colab": {}
      },
      "source": [
        "path = '/content/drive/My Drive/test'\n",
        "os.rmdir(path)    "
      ],
      "execution_count": 0,
      "outputs": []
    },
    {
      "cell_type": "markdown",
      "metadata": {
        "id": "PVwgWS8H-KjA",
        "colab_type": "text"
      },
      "source": [
        "## OS Path Module"
      ]
    },
    {
      "cell_type": "code",
      "metadata": {
        "id": "sa6e5on2JFiq",
        "colab_type": "code",
        "colab": {}
      },
      "source": [
        "with open('/content/drive/My Drive/test/foo.txt', 'w') as f:\n",
        "  f.write('Hello Google Drive!')\n",
        "!cat '/content/drive/My Drive/test/foo.txt'"
      ],
      "execution_count": 0,
      "outputs": []
    },
    {
      "cell_type": "code",
      "metadata": {
        "id": "WDhhw_ZH1sY3",
        "colab_type": "code",
        "colab": {}
      },
      "source": [
        "path = \"/content/drive/My Drive/test/foo.txt\"\n",
        "os.path.dirname(path)"
      ],
      "execution_count": 0,
      "outputs": []
    },
    {
      "cell_type": "code",
      "metadata": {
        "id": "_RxkZ9nY_WC4",
        "colab_type": "code",
        "colab": {}
      },
      "source": [
        "path = \"/content/drive/My Drive/test/foo.txt\"\n",
        "dir = os.path.dirname(path)\n",
        "os.path.join(dir, 'test2')"
      ],
      "execution_count": 0,
      "outputs": []
    },
    {
      "cell_type": "markdown",
      "metadata": {
        "id": "q-RsDLuAKGiM",
        "colab_type": "text"
      },
      "source": [
        "## File Operations"
      ]
    },
    {
      "cell_type": "code",
      "metadata": {
        "id": "_FFc60P8KIOe",
        "colab_type": "code",
        "colab": {}
      },
      "source": [
        "path = '/content/drive/My Drive/test'\n",
        "os.chdir(path)\n",
        "os.getcwd()"
      ],
      "execution_count": 0,
      "outputs": []
    },
    {
      "cell_type": "code",
      "metadata": {
        "id": "ZEa09SyNKRD6",
        "colab_type": "code",
        "colab": {}
      },
      "source": [
        "f = open('test.txt','w')\n",
        "for i in range(10):\n",
        "    f.write('This is line {}\\n'.format(i+1))"
      ],
      "execution_count": 0,
      "outputs": []
    },
    {
      "cell_type": "code",
      "metadata": {
        "id": "-1j15lDMK_v4",
        "colab_type": "code",
        "colab": {}
      },
      "source": [
        "!cat '/content/drive/My Drive/test/test.txt'"
      ],
      "execution_count": 0,
      "outputs": []
    },
    {
      "cell_type": "code",
      "metadata": {
        "id": "03JYNijUKoVq",
        "colab_type": "code",
        "colab": {}
      },
      "source": [
        "f = open('test.txt','a')\n",
        "for i in range(10):\n",
        "    f.write('This is line {}\\n'.format(i+10))"
      ],
      "execution_count": 0,
      "outputs": []
    },
    {
      "cell_type": "code",
      "metadata": {
        "id": "5FbZTthzK8Li",
        "colab_type": "code",
        "colab": {}
      },
      "source": [
        "!cat '/content/drive/My Drive/test/test.txt'"
      ],
      "execution_count": 0,
      "outputs": []
    },
    {
      "cell_type": "code",
      "metadata": {
        "id": "7A7NGX7BLd6R",
        "colab_type": "code",
        "colab": {}
      },
      "source": [
        "f.close()\n",
        "for i in range(10):\n",
        "    f.write('This is line {}\\n'.format(i+10))"
      ],
      "execution_count": 0,
      "outputs": []
    },
    {
      "cell_type": "code",
      "metadata": {
        "id": "TXZVZ68tLkx6",
        "colab_type": "code",
        "colab": {}
      },
      "source": [
        "with open(\"test.txt\",'w') as f:\n",
        "\tfor i in range(10):\n",
        "\t\tf.write(\"Hello World {}\\n\".format(i))"
      ],
      "execution_count": 0,
      "outputs": []
    },
    {
      "cell_type": "code",
      "metadata": {
        "id": "X_O7dTlALtp2",
        "colab_type": "code",
        "colab": {}
      },
      "source": [
        "!cat '/content/drive/My Drive/test/test.txt'"
      ],
      "execution_count": 0,
      "outputs": []
    },
    {
      "cell_type": "code",
      "metadata": {
        "id": "29x8rp4qGeX8",
        "colab_type": "code",
        "colab": {}
      },
      "source": [
        "f = open(\"user.txt\",\"r\")\n",
        "for i in f:\n",
        "\tprint(i.strip())\n",
        "f.close()\n"
      ],
      "execution_count": 0,
      "outputs": []
    },
    {
      "cell_type": "code",
      "metadata": {
        "id": "bMLrVdaAG6Cb",
        "colab_type": "code",
        "colab": {}
      },
      "source": [
        "with open(\"user.txt\",'r') as f:\n",
        "\tfor i in f:\n",
        "\t\tprint(i.strip())"
      ],
      "execution_count": 0,
      "outputs": []
    },
    {
      "cell_type": "code",
      "metadata": {
        "id": "h4YdP_mYHAae",
        "colab_type": "code",
        "colab": {}
      },
      "source": [
        "for i in open('user.txt','r'): print (i.strip())"
      ],
      "execution_count": 0,
      "outputs": []
    },
    {
      "cell_type": "code",
      "metadata": {
        "id": "Mht8f6UmOFET",
        "colab_type": "code",
        "colab": {}
      },
      "source": [
        "import pandas as pd\n",
        "\n",
        "df = pd.read_csv('test.txt',header=None)\n",
        "df"
      ],
      "execution_count": 0,
      "outputs": []
    },
    {
      "cell_type": "markdown",
      "metadata": {
        "id": "jQrXptZkRcfP",
        "colab_type": "text"
      },
      "source": [
        "# Topic 3 Object Oriented Programming"
      ]
    },
    {
      "cell_type": "markdown",
      "metadata": {
        "id": "kmvLWgd3go-F",
        "colab_type": "text"
      },
      "source": [
        "## Create Class and Object"
      ]
    },
    {
      "cell_type": "code",
      "metadata": {
        "id": "flIiIOPyUu7S",
        "colab_type": "code",
        "colab": {}
      },
      "source": [
        "class Animal:\n",
        "    color = \"black\"\n",
        "    legs = 4\n",
        "    \n",
        "    def walk(self):\n",
        "        print(\"walk like an animal\")\n",
        "    \n",
        "    def type(self):\n",
        "        print('This {} animal has {} legs'.format(self.color,self.legs))\n"
      ],
      "execution_count": 0,
      "outputs": []
    },
    {
      "cell_type": "code",
      "metadata": {
        "id": "qejPHHY6VFrF",
        "colab_type": "code",
        "colab": {}
      },
      "source": [
        "dog = Animal()\n",
        "print(dog.color)\n",
        "print(dog.legs)\n",
        "dog.walk()\n",
        "dog.type()\n",
        "\n",
        "# dog2 = Animal()\n",
        "# print(dog2.color)\n",
        "# print(dog2.legs)"
      ],
      "execution_count": 0,
      "outputs": []
    },
    {
      "cell_type": "markdown",
      "metadata": {
        "id": "85u6Q6vUgfs3",
        "colab_type": "text"
      },
      "source": [
        "## Initializer"
      ]
    },
    {
      "cell_type": "code",
      "metadata": {
        "id": "Oe05TqfFg_Ho",
        "colab_type": "code",
        "colab": {}
      },
      "source": [
        "class Animal:\n",
        "\n",
        "    def __init__(self,color,legs):\n",
        "        self.color = color\n",
        "        self.legs = legs\n",
        "        \n",
        "    def walk(self):\n",
        "        print(\"walk like an animal\")\n",
        "    \n",
        "    def type(self):\n",
        "        print('This {} animal has {} legs'.format(self.color,self.legs))"
      ],
      "execution_count": 0,
      "outputs": []
    },
    {
      "cell_type": "code",
      "metadata": {
        "id": "tId1rlw3hU-X",
        "colab_type": "code",
        "colab": {}
      },
      "source": [
        "spider = Animal('brown',8)\n",
        "spider.type()"
      ],
      "execution_count": 0,
      "outputs": []
    },
    {
      "cell_type": "code",
      "metadata": {
        "id": "Uq1E5LWGUUTT",
        "colab_type": "code",
        "colab": {}
      },
      "source": [
        "class Person:\n",
        "     \n",
        "    def __init__(self,name, height):\n",
        "         self.name = name\n",
        "         self.height = height\n",
        "    \n",
        "    def disp_height(self):\n",
        "        print(\"{} height is {}cm\".format(self.name, self.height))\n"
      ],
      "execution_count": 0,
      "outputs": []
    },
    {
      "cell_type": "code",
      "metadata": {
        "id": "fD7wuOYgiaQf",
        "colab_type": "code",
        "colab": {}
      },
      "source": [
        "alfred = Person('Alfred',170)\n",
        "alfred.disp_height()"
      ],
      "execution_count": 0,
      "outputs": []
    },
    {
      "cell_type": "markdown",
      "metadata": {
        "id": "mUQiCmYulB0Z",
        "colab_type": "text"
      },
      "source": [
        "## Destructor"
      ]
    },
    {
      "cell_type": "code",
      "metadata": {
        "id": "LNezP500UmZi",
        "colab_type": "code",
        "colab": {}
      },
      "source": [
        "class Animal:\n",
        "\n",
        "    def __init__(self,color,legs):\n",
        "        self.color = color\n",
        "        self.legs = legs\n",
        "\n",
        "    def __del__(self):\n",
        "        print(\"The animal has destroyed\")\n",
        "        \n",
        "    def walk(self):\n",
        "        print(\"walk like an animal\")\n",
        "    \n",
        "    def type(self):\n",
        "        print('This {} animal has {} legs'.format(self.color,self.legs))"
      ],
      "execution_count": 0,
      "outputs": []
    },
    {
      "cell_type": "code",
      "metadata": {
        "id": "xVLlD7GDlN2q",
        "colab_type": "code",
        "colab": {}
      },
      "source": [
        "cat = Animal('white',3)\n",
        "cat.type()\n",
        "del cat"
      ],
      "execution_count": 0,
      "outputs": []
    },
    {
      "cell_type": "markdown",
      "metadata": {
        "id": "p6h0ChO5mMY8",
        "colab_type": "text"
      },
      "source": [
        "## Class vs Instance Variables"
      ]
    },
    {
      "cell_type": "code",
      "metadata": {
        "id": "glv1XjMnl5xj",
        "colab_type": "code",
        "colab": {}
      },
      "source": [
        "class Animal:\n",
        "\n",
        "    color = 'white'\n",
        "    legs = 4\n",
        "\n",
        "    def __init__(self,color,legs):\n",
        "        self.color = color\n",
        "        self.legs = legs\n",
        "    \n",
        "    def instanceType(self):\n",
        "        print('This {} animal has {} legs'.format(self.color,self.legs))\n",
        "\n",
        "    def classType(self):\n",
        "        print('This {} animal has {} legs'.format(Animal.color,Animal.legs))"
      ],
      "execution_count": 0,
      "outputs": []
    },
    {
      "cell_type": "code",
      "metadata": {
        "id": "0iMtarcbmhLF",
        "colab_type": "code",
        "colab": {}
      },
      "source": [
        "spider = Animal('brown',8)\n",
        "spider.instanceType()\n",
        "spider.classType()"
      ],
      "execution_count": 0,
      "outputs": []
    },
    {
      "cell_type": "markdown",
      "metadata": {
        "id": "fMTKBMSdCZ2t",
        "colab_type": "text"
      },
      "source": [
        "## Inheritance"
      ]
    },
    {
      "cell_type": "code",
      "metadata": {
        "id": "pTe5hN9HDsOL",
        "colab_type": "code",
        "colab": {}
      },
      "source": [
        "class Animal:\n",
        "\n",
        "    def __init__(self,color,legs):\n",
        "        self.color = color\n",
        "        self.legs = legs\n",
        "        \n",
        "    def walk(self):\n",
        "        print(\"walk like an animal\")\n",
        "    \n",
        "    def type(self):\n",
        "        print('This {} animal has {} legs'.format(self.color,self.legs))"
      ],
      "execution_count": 0,
      "outputs": []
    },
    {
      "cell_type": "code",
      "metadata": {
        "id": "kzSFevirCb7K",
        "colab_type": "code",
        "colab": {}
      },
      "source": [
        "class Dog(Animal):\n",
        "    pass \n"
      ],
      "execution_count": 0,
      "outputs": []
    },
    {
      "cell_type": "code",
      "metadata": {
        "id": "R_1EGttaCtu_",
        "colab_type": "code",
        "colab": {}
      },
      "source": [
        "dog = Dog('brown',4)\n",
        "dog.type()"
      ],
      "execution_count": 0,
      "outputs": []
    },
    {
      "cell_type": "code",
      "metadata": {
        "id": "oPezCEhVCnlG",
        "colab_type": "code",
        "colab": {}
      },
      "source": [
        "class Dog(Animal):\n",
        "    \n",
        "    def __init__(self,color):\n",
        "        super().__init__(color,4)\n",
        "  \n",
        "    def walk(self):\n",
        "        print(\"walk like an dog\")\n",
        "    \n",
        "    def talk(self):\n",
        "        print(\"woof woof woof\")"
      ],
      "execution_count": 0,
      "outputs": []
    },
    {
      "cell_type": "code",
      "metadata": {
        "id": "Fn7iRrW3ETwU",
        "colab_type": "code",
        "colab": {}
      },
      "source": [
        "dog = Dog('brown')\n",
        "dog.type()\n",
        "dog.walk()\n",
        "dog.talk()"
      ],
      "execution_count": 0,
      "outputs": []
    },
    {
      "cell_type": "markdown",
      "metadata": {
        "id": "cqktk9RJJsD_",
        "colab_type": "text"
      },
      "source": [
        "## Polymerism"
      ]
    },
    {
      "cell_type": "code",
      "metadata": {
        "id": "jgIAr5NiF_VO",
        "colab_type": "code",
        "colab": {}
      },
      "source": [
        "class Animal():\n",
        "\n",
        "\tdef __init__(self,color,legs):\n",
        "\t\tself.color = color\n",
        "\t\tself.legs = legs\n",
        "\n",
        "\tdef talk(self):\n",
        "\t\tprint(\"talk like an animal\")\n",
        "\n",
        "class Dog(Animal):\n",
        "\n",
        "\tdef __init__(self,color):\n",
        "\t\tsuper().__init__(color,4)\n",
        "\t\n",
        "\tdef talk(self):\n",
        "\t\tprint(\"woof woof woof\")\n",
        "\n",
        "class Cat(Animal):\n",
        "\n",
        "\tdef __init__(self,color):\n",
        "\t\tsuper().__init__(color,4)\n",
        "\t\n",
        "\tdef talk(self):\n",
        "\t\tprint(\"meow meow meow\")\n",
        "\n",
        "d1 = Dog(\"white\")\n",
        "c1 = Cat(\"black\")\n",
        "\n",
        "def sound(any):\n",
        "\tany.talk()\n",
        "\n",
        "sound(d1)\n",
        "sound(c1)\n"
      ],
      "execution_count": 0,
      "outputs": []
    },
    {
      "cell_type": "markdown",
      "metadata": {
        "id": "vOmj5r0XU4uu",
        "colab_type": "text"
      },
      "source": [
        "# Topic 4 – Database"
      ]
    },
    {
      "cell_type": "markdown",
      "metadata": {
        "id": "98b0URw3V-Uz",
        "colab_type": "text"
      },
      "source": [
        "## SqLite3"
      ]
    },
    {
      "cell_type": "code",
      "metadata": {
        "id": "G4MMW348fNiV",
        "colab_type": "code",
        "colab": {}
      },
      "source": [
        "import sqlite3"
      ],
      "execution_count": 0,
      "outputs": []
    },
    {
      "cell_type": "code",
      "metadata": {
        "id": "L_pou6dAfQT8",
        "colab_type": "code",
        "colab": {}
      },
      "source": [
        "db = sqlite3.connect('school.db')"
      ],
      "execution_count": 0,
      "outputs": []
    },
    {
      "cell_type": "code",
      "metadata": {
        "id": "OWqmQwB5fZjk",
        "colab_type": "code",
        "colab": {}
      },
      "source": [
        "db.execute('create table student (name text,rank int)')"
      ],
      "execution_count": 0,
      "outputs": []
    },
    {
      "cell_type": "code",
      "metadata": {
        "id": "fDe4oMp2fc_D",
        "colab_type": "code",
        "colab": {}
      },
      "source": [
        "# Insert Record\n",
        "db.execute('insert into student (name,rank) values (?,?)',('Belinda',2))\n",
        "db.execute('insert into student (name,rank) values (?,?)',('Jane',3))\n",
        "db.execute('insert into student (name,rank) values (?,?)',('Steve',4))\n",
        "db.execute('insert into student (name,rank) values (?,?)',('Alfred',5))\n",
        "db.commit()"
      ],
      "execution_count": 0,
      "outputs": []
    },
    {
      "cell_type": "code",
      "metadata": {
        "id": "McDXnbu1fiUh",
        "colab_type": "code",
        "colab": {}
      },
      "source": [
        "# Read Record\n",
        "list = db.execute('select * from student order by name')\n",
        "\n",
        "for i in list:\n",
        "\tprint(i)"
      ],
      "execution_count": 0,
      "outputs": []
    },
    {
      "cell_type": "code",
      "metadata": {
        "id": "8ibQhkDWf15u",
        "colab_type": "code",
        "colab": {}
      },
      "source": [
        "# Update Record\n",
        "db.execute('update student set rank=? where name=?',(5,'Steve'))\n",
        "db.execute('update student set rank=? where name=?',(4,'Alfred'))\n"
      ],
      "execution_count": 0,
      "outputs": []
    },
    {
      "cell_type": "code",
      "metadata": {
        "id": "MBuljx25f6CC",
        "colab_type": "code",
        "colab": {}
      },
      "source": [
        "# Read Record\n",
        "list = db.execute('select * from student order by name')\n",
        "\n",
        "for i in list:\n",
        "\tprint(i)"
      ],
      "execution_count": 0,
      "outputs": []
    },
    {
      "cell_type": "code",
      "metadata": {
        "id": "gHTwyq-Pf7ww",
        "colab_type": "code",
        "colab": {}
      },
      "source": [
        "# Delete Record\n",
        "db.execute('delete from student where rank=5')"
      ],
      "execution_count": 0,
      "outputs": []
    },
    {
      "cell_type": "code",
      "metadata": {
        "id": "L-vOemjAf9y1",
        "colab_type": "code",
        "colab": {}
      },
      "source": [
        "# Read Record\n",
        "list = db.execute('select * from student order by name')\n",
        "\n",
        "for i in list:\n",
        "\tprint(i)"
      ],
      "execution_count": 0,
      "outputs": []
    },
    {
      "cell_type": "code",
      "metadata": {
        "id": "eE9WZsbQUlMa",
        "colab_type": "code",
        "colab": {}
      },
      "source": [
        ""
      ],
      "execution_count": 0,
      "outputs": []
    },
    {
      "cell_type": "markdown",
      "metadata": {
        "id": "ZzAiN7P93Xs4",
        "colab_type": "text"
      },
      "source": [
        "# Topic 5 – Error Handling Using Exception"
      ]
    },
    {
      "cell_type": "code",
      "metadata": {
        "id": "w9Cr6MkclxYi",
        "colab_type": "code",
        "colab": {}
      },
      "source": [
        "a = int(input('Enter an integer : '))\n",
        "print(\"You enter \",a)"
      ],
      "execution_count": 0,
      "outputs": []
    },
    {
      "cell_type": "code",
      "metadata": {
        "id": "wOQ1us_slkUD",
        "colab_type": "code",
        "colab": {}
      },
      "source": [
        "try:\n",
        "\ta = int(input('Enter an integer : '))\n",
        "\tprint(\"You enter \",a)\n",
        "except:\n",
        "\tprint(\"Please enter an integer\")"
      ],
      "execution_count": 0,
      "outputs": []
    },
    {
      "cell_type": "code",
      "metadata": {
        "id": "uoQBXQDYmAVL",
        "colab_type": "code",
        "colab": {}
      },
      "source": [
        "try:\n",
        "\ta = int(input('Enter an integer : '))\n",
        "except ValueError:\n",
        "\tprint(\"Please enter an integer\")\n",
        "else:\n",
        "   \tprint(\"You enter \",a)"
      ],
      "execution_count": 0,
      "outputs": []
    },
    {
      "cell_type": "code",
      "metadata": {
        "id": "NoIZc1sgnQBm",
        "colab_type": "code",
        "colab": {}
      },
      "source": [
        "try:\n",
        "\ta = int(input('Enter an integer : '))\n",
        "except ValueError:\n",
        "\tprint(\"Please enter an integer\")\n",
        "else:\n",
        "   \tprint(\"You enter \",a)\n",
        "finally:\n",
        "    print(\"Please try again\")"
      ],
      "execution_count": 0,
      "outputs": []
    },
    {
      "cell_type": "code",
      "metadata": {
        "id": "fAXoyvB2nvKx",
        "colab_type": "code",
        "colab": {}
      },
      "source": [
        "try:\n",
        "\tf = open('test888.txt','r')\n",
        "except IOError:\n",
        "    print(\"file does not exist\")\n"
      ],
      "execution_count": 0,
      "outputs": []
    },
    {
      "cell_type": "code",
      "metadata": {
        "id": "VMjjCcCg1yUp",
        "colab_type": "code",
        "colab": {}
      },
      "source": [
        "\n"
      ],
      "execution_count": 0,
      "outputs": []
    }
  ]
}