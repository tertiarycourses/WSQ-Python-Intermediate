{
  "nbformat": 4,
  "nbformat_minor": 0,
  "metadata": {
    "colab": {
      "name": "Trainer_Guide_Python_Immediate_Course.ipynb",
      "provenance": []
    },
    "kernelspec": {
      "name": "python3",
      "display_name": "Python 3"
    }
  },
  "cells": [
    {
      "cell_type": "markdown",
      "metadata": {
        "id": "Ed2tMR8xjBnM",
        "colab_type": "text"
      },
      "source": [
        "\n",
        "# Topic 1 Comprehension & Generators"
      ]
    },
    {
      "cell_type": "markdown",
      "metadata": {
        "id": "-RgjIoTJ8gAD",
        "colab_type": "text"
      },
      "source": [
        "## List Comprehension"
      ]
    },
    {
      "cell_type": "code",
      "metadata": {
        "id": "rhn3dmtUi7NP",
        "colab_type": "code",
        "colab": {}
      },
      "source": [
        "[i*i for i in range(11) if i%3 != 0 or i%5 != 0]"
      ],
      "execution_count": 0,
      "outputs": []
    },
    {
      "cell_type": "code",
      "metadata": {
        "id": "Tshi_WmLT9R7",
        "colab_type": "code",
        "colab": {}
      },
      "source": [
        "s = \"Today is a sunny day and a great day\"\n",
        "\n",
        "[word[0] for word in s.split()]"
      ],
      "execution_count": 0,
      "outputs": []
    },
    {
      "cell_type": "code",
      "metadata": {
        "id": "v69IFAQ7UOpp",
        "colab_type": "code",
        "colab": {}
      },
      "source": [
        "[word[-1] for word in s.split()]"
      ],
      "execution_count": 0,
      "outputs": []
    },
    {
      "cell_type": "markdown",
      "metadata": {
        "id": "q9DLTliC8kjy",
        "colab_type": "text"
      },
      "source": [
        "## Set Comprehension"
      ]
    },
    {
      "cell_type": "code",
      "metadata": {
        "id": "KW6Qzl2wjBF2",
        "colab_type": "code",
        "colab": {}
      },
      "source": [
        "s = \"Today is a sunny day and a great day\"\n",
        "\n",
        "exclude_words = {'is','a','and'}\n",
        "\n",
        "{word for word in s.split() if word not in exclude_words}"
      ],
      "execution_count": 0,
      "outputs": []
    },
    {
      "cell_type": "markdown",
      "metadata": {
        "id": "NjCxrKvh8qNH",
        "colab_type": "text"
      },
      "source": [
        "## Dict Comprehension"
      ]
    },
    {
      "cell_type": "code",
      "metadata": {
        "id": "qOB0JuOC8s6T",
        "colab_type": "code",
        "colab": {}
      },
      "source": [
        "d1 = {'Tom': 14, 'Patrick': 12, 'Sean': 15}\n",
        "d2 = {'Jeanne': 14, 'Marie': 12}\n",
        "\n",
        "{i:j for d in (d1,d2) for i,j in d.items() }"
      ],
      "execution_count": 0,
      "outputs": []
    },
    {
      "cell_type": "code",
      "metadata": {
        "id": "Akw5u5f184TR",
        "colab_type": "code",
        "colab": {}
      },
      "source": [
        "firstname = ['ally','jane','belinda']\n",
        "lastname = ['tan','wee','ng']\n",
        "\n",
        "name = ( n.capitalize()+\" \"+m.capitalize() for n,m in zip(firstname,lastname))"
      ],
      "execution_count": 0,
      "outputs": []
    },
    {
      "cell_type": "markdown",
      "metadata": {
        "id": "z-SOSbuhOKGq",
        "colab_type": "text"
      },
      "source": [
        "## Generator Expression"
      ]
    },
    {
      "cell_type": "code",
      "metadata": {
        "id": "eIw6Hz7JJX7g",
        "colab_type": "code",
        "colab": {}
      },
      "source": [
        "firstname = ['ally','jane','belinda']\n",
        "lastname = ['tan','wee','ng']\n",
        "\n",
        "name = ( n.capitalize()+\" \"+m.capitalize() for n,m in zip(firstname,lastname))\n"
      ],
      "execution_count": 0,
      "outputs": []
    },
    {
      "cell_type": "code",
      "metadata": {
        "id": "bwcc4XSsIcyA",
        "colab_type": "code",
        "colab": {}
      },
      "source": [
        "next(name)"
      ],
      "execution_count": 0,
      "outputs": []
    },
    {
      "cell_type": "markdown",
      "metadata": {
        "id": "nguXeg0FO3D0",
        "colab_type": "text"
      },
      "source": [
        "## Generator Function"
      ]
    },
    {
      "cell_type": "code",
      "metadata": {
        "id": "daUqi8qLmUuO",
        "colab_type": "code",
        "colab": {}
      },
      "source": [
        "def fibo(n):\n",
        "\ta,b=0,1\n",
        "\tfor i in range(n):\n",
        "\t\tyield b\n",
        "\t\ta,b=b,a+b\n"
      ],
      "execution_count": 0,
      "outputs": []
    },
    {
      "cell_type": "code",
      "metadata": {
        "id": "ILahyBbw0XlM",
        "colab_type": "code",
        "colab": {}
      },
      "source": [
        "for i in fibo(10):\n",
        "    print(i)"
      ],
      "execution_count": 0,
      "outputs": []
    },
    {
      "cell_type": "markdown",
      "metadata": {
        "id": "Ky-4u89DRGPj",
        "colab_type": "text"
      },
      "source": [
        "# Topic 2 File and Directory Handling"
      ]
    },
    {
      "cell_type": "code",
      "metadata": {
        "id": "hSjtM0FDM7AI",
        "colab_type": "code",
        "colab": {}
      },
      "source": [
        "from google.colab import drive\n",
        "drive.mount('/content/drive')"
      ],
      "execution_count": 0,
      "outputs": []
    },
    {
      "cell_type": "code",
      "metadata": {
        "id": "i9d65tn6NGtW",
        "colab_type": "code",
        "colab": {}
      },
      "source": [
        "import os \n",
        "path = '/content/drive/My Drive/test'\n",
        "os.chdir(path)\n",
        "os.getcwd()"
      ],
      "execution_count": 0,
      "outputs": []
    },
    {
      "cell_type": "code",
      "metadata": {
        "id": "WJZjkJzqINNV",
        "colab_type": "code",
        "colab": {}
      },
      "source": [
        "f = open('user.txt','w')\n",
        "f.write(\"name\\theight\\tweight\\tbmi\\n\")"
      ],
      "execution_count": 0,
      "outputs": []
    },
    {
      "cell_type": "code",
      "metadata": {
        "id": "pJf7Z-rYRJza",
        "colab_type": "code",
        "colab": {}
      },
      "source": [
        "name = input('Enter name: ')\n",
        "height = float(input('Enter height (m): '))\n",
        "weight = float(input('Enter weight (kg): '))\n",
        "with open(\"user.txt\",'a') as f:\n",
        "    bmi =  round(weight/(height*height),2)\n",
        "    f.write(\"{}\\t{}\\t{}\\t{}\\n\".format(name.lower(),height,weight,bmi))\n",
        "\n",
        "    "
      ],
      "execution_count": 0,
      "outputs": []
    },
    {
      "cell_type": "code",
      "metadata": {
        "id": "crjr3qg0NVV2",
        "colab_type": "code",
        "colab": {}
      },
      "source": [
        "!cat '/content/drive/My Drive/test/user.txt'"
      ],
      "execution_count": 0,
      "outputs": []
    },
    {
      "cell_type": "code",
      "metadata": {
        "id": "qDrNlOtSNowQ",
        "colab_type": "code",
        "colab": {}
      },
      "source": [
        "import pandas as pd\n",
        "\n",
        "df = pd.read_csv('user.txt',header=0,sep='\\t',index_col='name')\n",
        "name = input('Enter name: ')\n",
        "print('BMI = ',df.loc[name.lower()].bmi)"
      ],
      "execution_count": 0,
      "outputs": []
    },
    {
      "cell_type": "markdown",
      "metadata": {
        "id": "ZOw_YN4LW3GH",
        "colab_type": "text"
      },
      "source": [
        "# Topic 3 Object Oriented Programming"
      ]
    },
    {
      "cell_type": "markdown",
      "metadata": {
        "id": "8-eouryvFhH2",
        "colab_type": "text"
      },
      "source": [
        "## Ex: Class & Object"
      ]
    },
    {
      "cell_type": "code",
      "metadata": {
        "id": "blirnnLoNvxn",
        "colab_type": "code",
        "colab": {}
      },
      "source": [
        "class Counter:\n",
        "    count = 0\n",
        "\n",
        "    def reset(self):\n",
        "        self.count = 0\n",
        "\n",
        "    def increment(self):\n",
        "        self.count = self.count + 1\n",
        "    \n",
        "    def incrementByN(self,n):\n",
        "        self.count = self.count + n\n",
        "\n",
        "counter = Counter()\n",
        "print(counter.count)\n",
        "\n",
        "counter.increment()\n",
        "counter.increment()\n",
        "counter.increment()\n",
        "print(counter.count)\n",
        "\n",
        "counter.incrementByN(10)\n",
        "print(counter.count)\n",
        "\n",
        "counter.reset()\n",
        "print(counter.count)\n"
      ],
      "execution_count": 0,
      "outputs": []
    },
    {
      "cell_type": "markdown",
      "metadata": {
        "id": "lHRlsSSMFopP",
        "colab_type": "text"
      },
      "source": [
        "## Ex: Initializer"
      ]
    },
    {
      "cell_type": "code",
      "metadata": {
        "id": "zRDyrg-gjoXV",
        "colab_type": "code",
        "colab": {}
      },
      "source": [
        "class Rectangle:\n",
        "    \n",
        "    def __init__(self,length,width):\n",
        "        self.length = length\n",
        "        self.width = width\n",
        "    \n",
        "    def area(self):\n",
        "        return self.length*self.width\n",
        "\n"
      ],
      "execution_count": 0,
      "outputs": []
    },
    {
      "cell_type": "code",
      "metadata": {
        "id": "7rp1c8RVYGND",
        "colab_type": "code",
        "colab": {}
      },
      "source": [
        "rect1 = Rectangle(10,20)\n",
        "rect1.area()"
      ],
      "execution_count": 0,
      "outputs": []
    },
    {
      "cell_type": "markdown",
      "metadata": {
        "id": "IFQduAzMFqa9",
        "colab_type": "text"
      },
      "source": [
        "## Ex Employee Class"
      ]
    },
    {
      "cell_type": "code",
      "metadata": {
        "id": "W93ihyztkIPW",
        "colab_type": "code",
        "colab": {}
      },
      "source": [
        "class Employee:\n",
        "\n",
        "    empCount = 0\n",
        "    \n",
        "    def __init__(self,name,salary):\n",
        "        self.name = name\n",
        "        self.salary = salary\n",
        "        Employee.empCount = Employee.empCount+1\n",
        "    \n",
        "    def __del__(self):\n",
        "        Employee.empCount = Employee.empCount-1\n",
        "    \n",
        "    def dispEmployee(self):\n",
        "        print(\"{} salary is {}\".format(self.name,self.salary))\n",
        "\n",
        "    def dispEmployeeCount(self):\n",
        "        print(\"Number of Employee is {}\".format(Employee.empCount)) \n"
      ],
      "execution_count": 0,
      "outputs": []
    },
    {
      "cell_type": "code",
      "metadata": {
        "id": "mRPBkcSnpQw4",
        "colab_type": "code",
        "colab": {}
      },
      "source": [
        "emp1 = Employee('Ally',5000)\n",
        "emp2 = Employee('Belinda',6000)\n",
        "emp3 = Employee('Jane',4000)\n",
        "\n",
        "emp1.dispEmployee()\n",
        "emp1.dispEmployeeCount()\n",
        "del emp1\n",
        "emp2.dispEmployeeCount()"
      ],
      "execution_count": 0,
      "outputs": []
    },
    {
      "cell_type": "code",
      "metadata": {
        "id": "XuXd45Phpihn",
        "colab_type": "code",
        "colab": {}
      },
      "source": [
        "\n",
        "emp1.dispEmployee()\n",
        "emp1.dispEmployeeCount()\n",
        "del emp1\n",
        "emp2.dispEmployeeCount()"
      ],
      "execution_count": 0,
      "outputs": []
    },
    {
      "cell_type": "markdown",
      "metadata": {
        "id": "mWWzDHHBFvqi",
        "colab_type": "text"
      },
      "source": [
        "## Inheritance"
      ]
    },
    {
      "cell_type": "code",
      "metadata": {
        "id": "mZid_QXMtJuh",
        "colab_type": "code",
        "colab": {}
      },
      "source": [
        "class Rectangle:\n",
        "    \n",
        "    def __init__(self,length,width):\n",
        "        self.length = length\n",
        "        self.width = width\n",
        "    \n",
        "    def area(self):\n",
        "        return self.length*self.width\n",
        "\n"
      ],
      "execution_count": 0,
      "outputs": []
    },
    {
      "cell_type": "code",
      "metadata": {
        "id": "ZGQ7dtjfF1Ds",
        "colab_type": "code",
        "colab": {}
      },
      "source": [
        "class Square(Rectangle):\n",
        "\n",
        "    def __init__(self,length):\n",
        "        super().__init__(length,length)\n",
        "\n",
        "    def perimeter(self):\n",
        "        return 4*self.length\n",
        "    "
      ],
      "execution_count": 0,
      "outputs": []
    },
    {
      "cell_type": "code",
      "metadata": {
        "id": "M8tcaqUaGAjZ",
        "colab_type": "code",
        "colab": {}
      },
      "source": [
        "sq = Square(5)\n",
        "sq.area()"
      ],
      "execution_count": 0,
      "outputs": []
    },
    {
      "cell_type": "code",
      "metadata": {
        "id": "lc04PPTEGETF",
        "colab_type": "code",
        "colab": {}
      },
      "source": [
        "sq.perimeter()"
      ],
      "execution_count": 0,
      "outputs": []
    },
    {
      "cell_type": "code",
      "metadata": {
        "id": "WuTKRTk0GWhN",
        "colab_type": "code",
        "colab": {}
      },
      "source": [
        "class Employee:\n",
        "\n",
        "    empCount = 0\n",
        "    \n",
        "    def __init__(self,name,salary):\n",
        "        self.name = name\n",
        "        self.salary = salary\n",
        "        Employee.empCount = Employee.empCount+1\n",
        "    \n",
        "    def __del__(self):\n",
        "        print(\"{} has left the company\".format(self.name))\n",
        "        Employee.empCount = Employee.empCount-1\n",
        "    \n",
        "    def dispEmployee(self):\n",
        "        print(\"{} salary is {}\".format(self.name,self.salary))\n",
        "\n",
        "    def dispEmployeeCount(self):\n",
        "        print(\"Number of Employee is {}\".format(Employee.empCount)) "
      ],
      "execution_count": 0,
      "outputs": []
    },
    {
      "cell_type": "code",
      "metadata": {
        "id": "nISBAT8OGpAB",
        "colab_type": "code",
        "colab": {}
      },
      "source": [
        "class FullTimeStaff(Employee):\n",
        "    \n",
        "    def __init__(self,name,salary,leave):\n",
        "        super().__init__(name,salary)\n",
        "        self.leave = leave\n",
        "\n",
        "    def dispEmployee(self):\n",
        "        print(\"{} salary is {} and leave is {}\".format(self.name,self.salary,self.leave))\n",
        " "
      ],
      "execution_count": 0,
      "outputs": []
    },
    {
      "cell_type": "code",
      "metadata": {
        "id": "Lfaju24_G74F",
        "colab_type": "code",
        "colab": {}
      },
      "source": [
        "class PartTimeStaff(Employee):\n",
        "    \n",
        "    def __init__(self,name,hrrate):\n",
        "        super().__init__(name,0)\n",
        "        self.hrrate = hrrate\n",
        "    \n",
        "    def __del__(self):\n",
        "        pass\n",
        "    \n",
        "    def dispEmployee(self):\n",
        "        print(\"{} hourly rate is {}\".format(self.name,self.hrrate))"
      ],
      "execution_count": 0,
      "outputs": []
    },
    {
      "cell_type": "code",
      "metadata": {
        "id": "FO3AC57SHYmv",
        "colab_type": "code",
        "colab": {}
      },
      "source": [
        "emp1 = FullTimeStaff('Ally',5000,24)\n",
        "emp2 = FullTimeStaff('Belinda',6000,21)\n",
        "emp3 = PartTimeStaff('Jane',100)\n",
        "\n",
        "emp1.dispEmployee()\n",
        "emp1.dispEmployeeCount()\n",
        "emp3.dispEmployee()\n",
        "del emp1\n",
        "del emp3\n",
        "emp2.dispEmployeeCount()"
      ],
      "execution_count": 0,
      "outputs": []
    },
    {
      "cell_type": "code",
      "metadata": {
        "id": "fS57RoS0HtsP",
        "colab_type": "code",
        "colab": {}
      },
      "source": [
        ""
      ],
      "execution_count": 0,
      "outputs": []
    },
    {
      "cell_type": "markdown",
      "metadata": {
        "id": "POztvuBYgJ7Q",
        "colab_type": "text"
      },
      "source": [
        "# Topc 4 Database"
      ]
    },
    {
      "cell_type": "code",
      "metadata": {
        "id": "O8WVoWbugU5L",
        "colab_type": "code",
        "colab": {}
      },
      "source": [
        "import sqlite3"
      ],
      "execution_count": 0,
      "outputs": []
    },
    {
      "cell_type": "code",
      "metadata": {
        "id": "baf_4AsogQW9",
        "colab_type": "code",
        "colab": {}
      },
      "source": [
        "db = sqlite3.connect('school.db')"
      ],
      "execution_count": 0,
      "outputs": []
    },
    {
      "cell_type": "code",
      "metadata": {
        "id": "O3Uj_OpAgacT",
        "colab_type": "code",
        "colab": {}
      },
      "source": [
        "db.execute('create table subjects (subject text,students int, classes int)')"
      ],
      "execution_count": 0,
      "outputs": []
    },
    {
      "cell_type": "code",
      "metadata": {
        "id": "y1IYAAjUgdSE",
        "colab_type": "code",
        "colab": {}
      },
      "source": [
        "db.execute('insert into subjects (subject,students, classes) values (?,?,?)',('English',200,10))\n",
        "db.execute('insert into subjects (subject,students, classes) values (?,?,?)',('Chinese',50,8))\n",
        "db.execute('insert into subjects (subject,students, classes) values (?,?,?)',('Math',80,12))\n",
        "db.execute('insert into subjects (subject,students, classes) values (?,?,?)',('Science',80,12))\n",
        "db.commit()"
      ],
      "execution_count": 0,
      "outputs": []
    },
    {
      "cell_type": "code",
      "metadata": {
        "id": "FTr2wQv1gLGx",
        "colab_type": "code",
        "colab": {}
      },
      "source": [
        "list = db.execute('select * from subjects order by subject')\n",
        "\n",
        "for i in list:\n",
        "\tprint(i)\n"
      ],
      "execution_count": 0,
      "outputs": []
    },
    {
      "cell_type": "markdown",
      "metadata": {
        "id": "Opwiw3XSoN38",
        "colab_type": "text"
      },
      "source": [
        "# Topic 5 Error Handling Using Exception"
      ]
    },
    {
      "cell_type": "code",
      "metadata": {
        "id": "HBs4vcpJoyso",
        "colab_type": "code",
        "colab": {
          "base_uri": "https://localhost:8080/",
          "height": 35
        },
        "outputId": "4ef0e3bc-41f3-4ea4-b5ff-6c124f97cdd1"
      },
      "source": [
        "import random\n",
        "die = random.choice([1,2,3,4,5,6])\n",
        "print('The correct answer is ',die)\n"
      ],
      "execution_count": 36,
      "outputs": [
        {
          "output_type": "stream",
          "text": [
            "The correct answer is  5\n"
          ],
          "name": "stdout"
        }
      ]
    },
    {
      "cell_type": "code",
      "metadata": {
        "id": "jgIz1dR9gfeC",
        "colab_type": "code",
        "colab": {
          "base_uri": "https://localhost:8080/",
          "height": 52
        },
        "outputId": "f4c3ed41-3091-454d-8d28-e732635d6be9"
      },
      "source": [
        "while True:\n",
        "    try:\n",
        "        guess = int(input('Guess the die no : '))\n",
        "        if guess == die:\n",
        "            print(\"Good Guess\")\n",
        "            break\n",
        "        else:\n",
        "            int(\"Wrong\")\n",
        "    except:\n",
        "        print(\"Pls try again\")\n"
      ],
      "execution_count": 37,
      "outputs": [
        {
          "output_type": "stream",
          "text": [
            "Guess the die no : 5\n",
            "Good Guess\n"
          ],
          "name": "stdout"
        }
      ]
    },
    {
      "cell_type": "code",
      "metadata": {
        "id": "47qyiDb3p9bp",
        "colab_type": "code",
        "colab": {}
      },
      "source": [
        ""
      ],
      "execution_count": 0,
      "outputs": []
    }
  ]
}